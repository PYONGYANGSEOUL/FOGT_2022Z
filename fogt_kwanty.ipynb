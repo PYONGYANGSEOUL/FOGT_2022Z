{
 "cells": [
  {
   "cell_type": "code",
   "execution_count": 73,
   "metadata": {},
   "outputs": [],
   "source": [
    "import numpy as np\n",
    "import sympy as sp\n",
    "from sympy.utilities import lambdify\n",
    "\n",
    "sp.init_printing()"
   ]
  },
  {
   "cell_type": "code",
   "execution_count": 74,
   "metadata": {},
   "outputs": [
    {
     "data": {
      "image/png": "[encoded data removed]",
      "text/latex": [
       "$\\displaystyle \\left( x, \\  k, \\  a, \\  n, \\  \\hbar, \\  \\psi{\\left(x \\right)}\\right)$"
      ],
      "text/plain": [
       "(x, k, a, n, h̅, \\psi(x))"
      ]
     },
     "execution_count": 74,
     "metadata": {},
     "output_type": "execute_result"
    }
   ],
   "source": [
    "x = sp.Symbol(\"x\", real = True)\n",
    "k = sp.Symbol(\"k\", real = True, positive = True)\n",
    "a = sp.Symbol(\"a\", real = True)\n",
    "n = sp.Symbol(\"n\", integer = True, nonzero = True)\n",
    "h = sp.Symbol(\"hbar\", real = True, positive = True)\n",
    "i = sp.I\n",
    "psi = sp.Function(\"\\psi\")\n",
    "\n",
    "x, k, a, n, h, psi(x)"
   ]
  },
  {
   "cell_type": "code",
   "execution_count": 75,
   "metadata": {},
   "outputs": [
    {
     "data": {
      "image/png": "[encoded data removed]",
      "text/latex": [
       "$\\displaystyle \\frac{d^{2}}{d x^{2}} \\psi{\\left(x \\right)} = - k^{2} \\psi{\\left(x \\right)}$"
      ],
      "text/plain": [
       "  2                       \n",
       " d               2        \n",
       "───(\\psi(x)) = -k ⋅\\psi(x)\n",
       "  2                       \n",
       "dx                        "
      ]
     },
     "execution_count": 75,
     "metadata": {},
     "output_type": "execute_result"
    }
   ],
   "source": [
    "eq = sp.Eq(psi(x).diff(x, x), -k**2 * psi(x))\n",
    "eq"
   ]
  },
  {
   "cell_type": "code",
   "execution_count": 76,
   "metadata": {},
   "outputs": [
    {
     "data": {
      "image/png": "[encoded data removed]",
      "text/latex": [
       "$\\displaystyle \\psi{\\left(x \\right)} = \\sqrt{2} \\sqrt{\\frac{1}{a}} \\sin{\\left(\\frac{\\pi n x}{a} \\right)}$"
      ],
      "text/plain": [
       "                 ___           \n",
       "                ╱ 1     ⎛π⋅n⋅x⎞\n",
       "\\psi(x) = √2⋅  ╱  ─ ⋅sin⎜─────⎟\n",
       "             ╲╱   a     ⎝  a  ⎠"
      ]
     },
     "execution_count": 76,
     "metadata": {},
     "output_type": "execute_result"
    }
   ],
   "source": [
    "sol = sp.dsolve(eq, psi(x), ics = {psi(0): 0})\n",
    "sol = sol.subs(k, n * sp.pi / a)\n",
    "sol = sol.subs(sp.Symbol('C1'), sp.sqrt(2/a))\n",
    "sol"
   ]
  },
  {
   "cell_type": "code",
   "execution_count": 77,
   "metadata": {},
   "outputs": [
    {
     "data": {
      "image/png": "[encoded data removed]",
      "text/latex": [
       "$\\displaystyle \\frac{a}{2}$"
      ],
      "text/plain": [
       "a\n",
       "─\n",
       "2"
      ]
     },
     "execution_count": 77,
     "metadata": {},
     "output_type": "execute_result"
    }
   ],
   "source": [
    "x1 = sp.integrate(sol.rhs * x * sol.rhs, (x, 0, a)).simplify()\n",
    "x1"
   ]
  },
  {
   "cell_type": "code",
   "execution_count": 78,
   "metadata": {},
   "outputs": [
    {
     "data": {
      "image/png": "[encoded data removed]",
      "text/latex": [
       "$\\displaystyle \\frac{a^{2}}{3} - \\frac{a^{2}}{2 \\pi^{2} n^{2}}$"
      ],
      "text/plain": [
       " 2       2  \n",
       "a       a   \n",
       "── - ───────\n",
       "3       2  2\n",
       "     2⋅π ⋅n "
      ]
     },
     "execution_count": 78,
     "metadata": {},
     "output_type": "execute_result"
    }
   ],
   "source": [
    "x2 = sp.integrate(sol.rhs * x**2 * sol.rhs, (x, 0, a)).simplify()\n",
    "x2"
   ]
  },
  {
   "attachments": {},
   "cell_type": "markdown",
   "metadata": {},
   "source": [
    "ZADANIE 1: ŚREDNI PĘD\n",
    "\n",
    "Operator pędu: $$\\hat{p} = -i\\hbar\\frac{\\partial}{\\partial x}$$\n",
    " \n",
    "$$< p > = \\int_{-\\infty}^{\\infty} \\Psi^{\\ast}\\hat{p}\\Psi dx = \\int_{0}^{a} \\Psi(-i\\hbar\\frac{\\partial\\Psi}{\\partial x}) dx$$"
   ]
  },
  {
   "cell_type": "code",
   "execution_count": 79,
   "metadata": {},
   "outputs": [
    {
     "data": {
      "image/png": "[encoded data removed]",
      "text/latex": [
       "$\\displaystyle 0$"
      ],
      "text/plain": [
       "0"
      ]
     },
     "execution_count": 79,
     "metadata": {},
     "output_type": "execute_result"
    }
   ],
   "source": [
    "p1 = sp.integrate(sol.rhs * -i * h * sol.rhs.diff(x), (x, 0, a)).simplify()\n",
    "p1"
   ]
  },
  {
   "attachments": {},
   "cell_type": "markdown",
   "metadata": {},
   "source": [
    "ZADANIE 2: ŚREDNI KWADRAT PĘDU\n",
    "\n",
    "$$< p^2 > = \\int_{-\\infty}^{\\infty} \\Psi^{\\ast}\\hat{p}^2\\Psi dx = \\int_{0}^{a} \\Psi(-\\hbar^2\\frac{\\partial^2\\Psi}{\\partial x^2}) dx$$"
   ]
  },
  {
   "cell_type": "code",
   "execution_count": 80,
   "metadata": {},
   "outputs": [
    {
     "data": {
      "image/png": "[encoded data removed]",
      "text/latex": [
       "$\\displaystyle \\frac{\\pi^{2} \\hbar^{2} n^{2}}{a^{2}}$"
      ],
      "text/plain": [
       " 2  2  2\n",
       "π ⋅h̅ ⋅n \n",
       "────────\n",
       "    2   \n",
       "   a    "
      ]
     },
     "execution_count": 80,
     "metadata": {},
     "output_type": "execute_result"
    }
   ],
   "source": [
    "p2 = sp.integrate(sol.rhs * (-i*h)**2 * sol.rhs.diff(x, x), (x, 0, a)).simplify()\n",
    "p2"
   ]
  },
  {
   "attachments": {},
   "cell_type": "markdown",
   "metadata": {},
   "source": [
    "ZADANIE 3: CZY JEST SPEŁNIONA ZASADA NIEOZNACZONOŚCI?\n",
    "\n",
    "Zasada nieoznaczoności mówi, że nie możemy dobrze określić jednocześnie położenie i pęd cząstki\n",
    "\n",
    "$$\\sigma_{x}\\sigma_{p} \\ge \\frac{\\hbar}{2}$$\n",
    "\n",
    "Żeby to sprawdzić. należy obliczyć odchylenia standardowe położenia oraz pędu:\n",
    "$$\\sigma_{x} = \\sqrt{VarX} = \\sqrt{\\mathbb{E}X^2 - (\\mathbb{E}X)^2} = \\sqrt{<x^2> - (<x>)^2}$$\n",
    "$$\\sigma_{p} = \\sqrt{VarP} = \\sqrt{\\mathbb{E}P^2 - (\\mathbb{E}P)^2} = \\sqrt{<p^2> - (<p>)^2}$$"
   ]
  },
  {
   "cell_type": "code",
   "execution_count": 81,
   "metadata": {},
   "outputs": [
    {
     "data": {
      "image/png": "[encoded data removed]",
      "text/latex": [
       "$\\displaystyle \\frac{\\sqrt{3 \\pi^{2} n^{2} - 18} \\left|{\\frac{a}{n}}\\right|}{6 \\pi}$"
      ],
      "text/plain": [
       "   ______________    \n",
       "  ╱    2  2       │a│\n",
       "╲╱  3⋅π ⋅n  - 18 ⋅│─│\n",
       "                  │n│\n",
       "─────────────────────\n",
       "         6⋅π         "
      ]
     },
     "execution_count": 81,
     "metadata": {},
     "output_type": "execute_result"
    }
   ],
   "source": [
    "sigmax = sp.sqrt(x2-x1**2).simplify()\n",
    "sigmax"
   ]
  },
  {
   "cell_type": "code",
   "execution_count": 82,
   "metadata": {},
   "outputs": [
    {
     "data": {
      "image/png": "[encoded data removed]",
      "text/latex": [
       "$\\displaystyle \\pi \\hbar \\left|{\\frac{n}{a}}\\right|$"
      ],
      "text/plain": [
       "    │n│\n",
       "π⋅h̅⋅│─│\n",
       "    │a│"
      ]
     },
     "execution_count": 82,
     "metadata": {},
     "output_type": "execute_result"
    }
   ],
   "source": [
    "sigmap = sp.sqrt(p2-p1**2).simplify()\n",
    "sigmap"
   ]
  },
  {
   "attachments": {},
   "cell_type": "markdown",
   "metadata": {},
   "source": [
    "Dostajemy w wyniku:"
   ]
  },
  {
   "cell_type": "code",
   "execution_count": 83,
   "metadata": {},
   "outputs": [
    {
     "data": {
      "image/png": "[encoded data removed]",
      "text/latex": [
       "$\\displaystyle \\frac{\\hbar \\sqrt{3 \\pi^{2} n^{2} - 18}}{6} \\geq \\frac{\\hbar}{2}$"
      ],
      "text/plain": [
       "     ______________    \n",
       "    ╱    2  2          \n",
       "h̅⋅╲╱  3⋅π ⋅n  - 18    h̅\n",
       "─────────────────── ≥ ─\n",
       "         6            2"
      ]
     },
     "execution_count": 83,
     "metadata": {},
     "output_type": "execute_result"
    }
   ],
   "source": [
    "(sigmax*sigmap).simplify() >= h/2"
   ]
  },
  {
   "attachments": {},
   "cell_type": "markdown",
   "metadata": {},
   "source": [
    "Żeby sprawdzić prawdziwość tej nierówności, musimy rozważyć wartości lewej strony w zależności od wartości $n$.\n",
    "\n",
    "Najpierw skróćmy $\\frac{\\hbar}{2}$ po obu stronach nierówności: $$\\frac{\\sqrt{3\\pi^2n^2-18}}{3} \\ge 1$$\n",
    "\n",
    "Dalej możemy zauważyć, że funkcja po lewej stronie jest rosnąca, więc jeżeli dla $n=1$ będzie spełniona ta nierówność, to również będzie ona spełniona dla $n = 2, 3, ...$"
   ]
  },
  {
   "cell_type": "code",
   "execution_count": 84,
   "metadata": {},
   "outputs": [
    {
     "data": {
      "image/png": "[encoded data removed]",
      "text/latex": [
       "$\\displaystyle 1.13572361677322$"
      ],
      "text/plain": [
       "1.13572361677322"
      ]
     },
     "execution_count": 84,
     "metadata": {},
     "output_type": "execute_result"
    }
   ],
   "source": [
    "n = 1\n",
    "h1 = sp.sqrt(3*(np.pi**2)*(n**2)-18)/3\n",
    "h1"
   ]
  },
  {
   "cell_type": "code",
   "execution_count": 85,
   "metadata": {},
   "outputs": [
    {
     "data": {
      "text/latex": [
       "$\\displaystyle \\text{True}$"
      ],
      "text/plain": [
       "True"
      ]
     },
     "execution_count": 85,
     "metadata": {},
     "output_type": "execute_result"
    }
   ],
   "source": [
    "h1 > 1"
   ]
  },
  {
   "attachments": {},
   "cell_type": "markdown",
   "metadata": {},
   "source": [
    "Stąd wnioskujemy o spełnieniu zasady nieoznaczoności."
   ]
  }
 ],
 "metadata": {
  "kernelspec": {
   "display_name": "Python 3",
   "language": "python",
   "name": "python3"
  },
  "language_info": {
   "codemirror_mode": {
    "name": "ipython",
    "version": 3
   },
   "file_extension": ".py",
   "mimetype": "text/x-python",
   "name": "python",
   "nbconvert_exporter": "python",
   "pygments_lexer": "ipython3",
   "version": "3.9.7"
  },
  "orig_nbformat": 4,
  "vscode": {
   "interpreter": {
    "hash": "f6c8f846148a3e4d140e6ddf63c190cff559dcf260a4a21539f0978f2b58638c"
   }
  }
 },
 "nbformat": 4,
 "nbformat_minor": 2
}
